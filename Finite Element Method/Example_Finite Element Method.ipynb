{
 "cells": [
  {
   "cell_type": "markdown",
   "id": "dc4c338a",
   "metadata": {},
   "source": [
    "### Finite Element Method (FEM)\n",
    "\n",
    "Consider using another method like the Finite Element Method (FEM) to calculate the electrical resistance of the whole system. The FEniCS project is one of the popular tools for solving FEM problems in Python. However, setting up such a simulation requires a good understanding of the FEM and knowledge of the FEniCS library.\n",
    "\n",
    "We define the boundary condition for the electric potential u. The potential u_D is given by a linear expression 1 - x[0] (1V on the left edge, and 0V on the right edge). We define a function boundary that returns True for points on the boundary of the domain. Then, we create a DirichletBC object that enforces the boundary condition u_D on the function space V."
   ]
  },
  {
   "cell_type": "code",
   "execution_count": null,
   "id": "b794d94b",
   "metadata": {},
   "outputs": [],
   "source": [
    "# Import the FEniCS library\n",
    "\n",
    "from fenics import * \n",
    "\n",
    "# Create mesh and define function space\n",
    "mesh = UnitSquareMesh(32, 32)\n",
    "V = FunctionSpace(mesh, 'P', 1)\n",
    "\n",
    "# Create a 2D mesh for the unit square domain using UnitSquareMesh, with 32 subdivisions in both the x and y directions. \n",
    "# Then, define a function space V over the mesh using the Lagrange finite element of degree 1 (denoted by 'P', 1).\n",
    "\n",
    "# Define boundary condition\n",
    "u_D = Expression('1 - x[0]', degree=1)\n",
    "\n",
    "def boundary(x, on_boundary):\n",
    "    return on_boundary\n",
    "\n",
    "bc = DirichletBC(V, u_D, boundary)\n"
   ]
  },
  {
   "cell_type": "markdown",
   "id": "9d076108",
   "metadata": {},
   "source": [
    "We define the trial function u and the test function v on the function space V. We also define a source term f (in this case, it's zero). The variational problem is defined using the weak form of the Poisson equation: a(u, v) = L(v). We set a(u, v) = dot(grad(u), grad(v)) * dx, and L(v) = f * v * dx."
   ]
  },
  {
   "cell_type": "code",
   "execution_count": null,
   "id": "c662e416",
   "metadata": {},
   "outputs": [],
   "source": [
    "# Define variational problem\n",
    "u = TrialFunction(V)\n",
    "v = TestFunction(V)\n",
    "f = Constant(0.0)\n",
    "a = dot(grad(u), grad(v)) * dx\n",
    "L = f * v * dx"
   ]
  },
  {
   "cell_type": "markdown",
   "id": "a2ba7c64",
   "metadata": {},
   "source": [
    "We create a Function object u on the function space V and use the solve function to solve the variational problem a == L with the boundary condition bc. The solution for the electric potential u is stored in the Function object u"
   ]
  },
  {
   "cell_type": "code",
   "execution_count": null,
   "id": "bef190c8",
   "metadata": {},
   "outputs": [],
   "source": [
    "# Compute solution\n",
    "u = Function(V)\n",
    "solve(a == L, u, bc)"
   ]
  },
  {
   "cell_type": "markdown",
   "id": "d99a20ff",
   "metadata": {},
   "source": [
    "We calculate the resistance using Ohm's law R = V / I. We know the voltage at the left edge (V0 = 1.0V). The current I is calculated by integrating the current density J = -k * grad(u) over the domain (in this case, k = 1). We use the assemble function to compute the integral. Then, we calculate the resistance R and print it."
   ]
  },
  {
   "cell_type": "code",
   "execution_count": null,
   "id": "f42052ea",
   "metadata": {},
   "outputs": [],
   "source": [
    "\n",
    "# Calculate resistance using Ohm's law: R = V / I\n",
    "V0 = 1.0  # Voltage at the left edge\n",
    "A = 1.0  # Cross-sectional area (unit height)\n",
    "I = assemble(-k * grad(u)[0] * ds)  # Current through the domain\n",
    "R = V0 / I\n",
    "\n",
    "print(f\"Electrical resistance: {R:.4f} Ohm\")"
   ]
  }
 ],
 "metadata": {
  "kernelspec": {
   "display_name": "Python 3 (ipykernel)",
   "language": "python",
   "name": "python3"
  },
  "language_info": {
   "codemirror_mode": {
    "name": "ipython",
    "version": 3
   },
   "file_extension": ".py",
   "mimetype": "text/x-python",
   "name": "python",
   "nbconvert_exporter": "python",
   "pygments_lexer": "ipython3",
   "version": "3.9.7"
  }
 },
 "nbformat": 4,
 "nbformat_minor": 5
}
